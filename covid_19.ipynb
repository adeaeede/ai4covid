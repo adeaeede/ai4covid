{
  "nbformat": 4,
  "nbformat_minor": 0,
  "metadata": {
    "colab": {
      "name": "covid-19.ipynb",
      "provenance": [],
      "collapsed_sections": [],
      "toc_visible": true,
      "include_colab_link": true
    },
    "kernelspec": {
      "name": "python3",
      "display_name": "Python 3"
    },
    "accelerator": "GPU"
  },
  "cells": [
    {
      "cell_type": "markdown",
      "metadata": {
        "id": "view-in-github",
        "colab_type": "text"
      },
      "source": [
        "<a href=\"https://colab.research.google.com/github/adeaeede/ai4covid/blob/master/covid_19.ipynb\" target=\"_parent\"><img src=\"https://colab.research.google.com/assets/colab-badge.svg\" alt=\"Open In Colab\"/></a>"
      ]
    },
    {
      "cell_type": "markdown",
      "metadata": {
        "id": "tiuIOyMVfrFJ",
        "colab_type": "text"
      },
      "source": [
        "In this notebook, we demonstrate how to train a convolutional network, that has been pretrained on a large dataset of X-Rays, on a much smaller target dataset containing X-rays of patients affected by several lung diseases, including the COVID-19. Our task is to predict whether a patient is affected by COVID-19 or not, based on an X-ray image. For this task we will use the publicly available [covid-chestxray-dataset](https://github.com/ieee8023/covid-chestxray-dataset/).\n",
        "\n",
        "Due to the small amount of training data in our dataset, we will use a pretrained network to initialize the weights of our model, which should increase the accuracy, since the model will already be capable of extracting higher-level features from X-ray images, thus won't have to learn it from scratch. This approach is called transfer learning and is extensively used in computer vision. The pretrained network is a DenseNet121 trained on the CheXpert dataset, which contains over 200,000 labeled chest radiographs. The network was trained to detect presence of 14 observations in radiology reports [[arXiv:1901.07031]](https://arxiv.org/pdf/1901.07031.pdf).\n"
      ]
    },
    {
      "cell_type": "code",
      "metadata": {
        "id": "DUg5HiH9Rf_o",
        "colab_type": "code",
        "outputId": "65167e1d-1001-45ad-ee92-4d562f8b115a",
        "colab": {
          "base_uri": "https://localhost:8080/",
          "height": 34
        }
      },
      "source": [
        "!python --version"
      ],
      "execution_count": 1,
      "outputs": [
        {
          "output_type": "stream",
          "text": [
            "Python 3.6.9\n"
          ],
          "name": "stdout"
        }
      ]
    },
    {
      "cell_type": "code",
      "metadata": {
        "id": "GyojbROG3j6X",
        "colab_type": "code",
        "outputId": "43511b99-d1f1-4e19-fb7d-a895dc67c737",
        "colab": {
          "base_uri": "https://localhost:8080/",
          "height": 72
        }
      },
      "source": [
        "# download covid-chestxray-datase\n",
        "!wget --quiet --no-check-certificate -r 'https://docs.google.com/uc?export=download&id=1o_0SBhUPGCqLTWiGwMbHBMP12YK6EIMo' -O /content/covid-chest-xray.zip\n",
        "!unzip -qq /content/covid-chest-xray.zip"
      ],
      "execution_count": 2,
      "outputs": [
        {
          "output_type": "stream",
          "text": [
            "warning [/content/covid-chest-xray.zip]:  403481 extra bytes at beginning or within zipfile\n",
            "  (attempting to process anyway)\n"
          ],
          "name": "stdout"
        }
      ]
    },
    {
      "cell_type": "code",
      "metadata": {
        "id": "LGYIfbpa5HQI",
        "colab_type": "code",
        "colab": {}
      },
      "source": [
        "# download the model pretrained on the CheXpert dataset\n",
        "!wget --quiet --no-check-certificate -r 'https://docs.google.com/uc?export=download&id=1MgmUWiSu_LsmDlOZ1EXKllcqRGZWUsRr' -O /content/pretrained_CheXNet.pth.tar"
      ],
      "execution_count": 0,
      "outputs": []
    },
    {
      "cell_type": "code",
      "metadata": {
        "id": "sSWAGrVw9N5q",
        "colab_type": "code",
        "colab": {}
      },
      "source": [
        "from os.path import join as pjoin\n",
        "\n",
        "import math\n",
        "import numpy as np\n",
        "import pandas as pd\n",
        "import torch\n",
        "import torch.nn as nn\n",
        "import torch.nn.functional as F\n",
        "from torch.utils.data import Dataset\n",
        "from torch.utils.data import DataLoader\n",
        "from torch.utils.data.dataset import random_split\n",
        "import torchvision\n",
        "import torchvision.transforms as transforms\n",
        "import torch.optim as optim\n",
        "from sklearn.metrics import f1_score, roc_curve, auc\n",
        "from sklearn.model_selection import train_test_split\n",
        "from PIL import Image\n",
        "import matplotlib.pyplot as plt"
      ],
      "execution_count": 0,
      "outputs": []
    },
    {
      "cell_type": "markdown",
      "metadata": {
        "id": "nZl3cykmf4Va",
        "colab_type": "text"
      },
      "source": [
        "If a GPU card is available, it will be used for training and evaluation"
      ]
    },
    {
      "cell_type": "code",
      "metadata": {
        "id": "3whnaYTzCLNB",
        "colab_type": "code",
        "outputId": "59d31f54-0990-4945-c3a4-025097884747",
        "colab": {
          "base_uri": "https://localhost:8080/",
          "height": 34
        }
      },
      "source": [
        "device = torch.device(\"cuda:0\" if torch.cuda.is_available() else \"cpu\")\n",
        "print(f'Using {device}')"
      ],
      "execution_count": 5,
      "outputs": [
        {
          "output_type": "stream",
          "text": [
            "Using cuda:0\n"
          ],
          "name": "stdout"
        }
      ]
    },
    {
      "cell_type": "markdown",
      "metadata": {
        "id": "Myg6IB0VhMHu",
        "colab_type": "text"
      },
      "source": [
        "First, we define the architecture and initialize the weights. Next, we load the weights of the pretrained model. Finally, we replace the last layer (i.e. the classification layer) to match our desired output dimension which is 1 (patient has COVID-19 or not)."
      ]
    },
    {
      "cell_type": "code",
      "metadata": {
        "id": "TedJQgqvCOQG",
        "colab_type": "code",
        "colab": {}
      },
      "source": [
        "class COVID19Classifier(nn.Module):\n",
        "  def __init__(self, model_fn):\n",
        "    super().__init__()\n",
        "    self.model = model_fn(pretrained=False)\n",
        "    self.pool = nn.AdaptiveAvgPool2d(1)\n",
        "    self.num_features = self.model.classifier.in_features\n",
        "    self.model.classifier = nn.Linear(self.num_features, 42)\n",
        "  \n",
        "  def forward(self, x):\n",
        "    x = self.model.features(x)\n",
        "    x = F.relu(x, inplace=True)\n",
        "    x = self.pool(x).view(x.size(0), -1)\n",
        "    x = self.model.classifier(x)\n",
        "    x = torch.sigmoid(x)\n",
        "    return x"
      ],
      "execution_count": 0,
      "outputs": []
    },
    {
      "cell_type": "code",
      "metadata": {
        "id": "OWaZJxl0gdys",
        "colab_type": "code",
        "colab": {}
      },
      "source": [
        "# initialize model\n",
        "model = COVID19Classifier(torchvision.models.densenet121)"
      ],
      "execution_count": 0,
      "outputs": []
    },
    {
      "cell_type": "code",
      "metadata": {
        "id": "Q9FjXNbvgg-y",
        "colab_type": "code",
        "outputId": "1f207420-fe33-4204-b4d6-3b96c355b896",
        "colab": {
          "base_uri": "https://localhost:8080/",
          "height": 34
        }
      },
      "source": [
        "# load pretrained weights\n",
        "ckpt_dict = torch.load('/content/pretrained_CheXNet.pth.tar')\n",
        "model_state = {k[7:]: v for k, v in ckpt_dict['model_state'].items()}\n",
        "model.load_state_dict(model_state)"
      ],
      "execution_count": 8,
      "outputs": [
        {
          "output_type": "execute_result",
          "data": {
            "text/plain": [
              "<All keys matched successfully>"
            ]
          },
          "metadata": {
            "tags": []
          },
          "execution_count": 8
        }
      ]
    },
    {
      "cell_type": "code",
      "metadata": {
        "id": "QasncpjHVcgq",
        "colab_type": "code",
        "colab": {}
      },
      "source": [
        "# replace the classification layer\n",
        "model.model.classifier = nn.Linear(model.num_features, 1)\n",
        "# place model on the target device\n",
        "model = model.to(device)"
      ],
      "execution_count": 0,
      "outputs": []
    },
    {
      "cell_type": "markdown",
      "metadata": {
        "id": "APJQyrTDmmaP",
        "colab_type": "text"
      },
      "source": [
        "Now, we define data loaders which will supply our network with data during training. The data loader reads images from the dataset directory and transforms them to match the dimensions and pixel distribution of the input. Additionally, we add a simple data augmentation transformation, in order to artificially increase the size of the dataset used for training."
      ]
    },
    {
      "cell_type": "code",
      "metadata": {
        "id": "VHSZ3Bl5-Fbz",
        "colab_type": "code",
        "colab": {}
      },
      "source": [
        "class COVID19DataSet(Dataset):\n",
        "    def __init__(self, metadata, image_dir, transform=None):\n",
        "      self.image_names = image_dir + metadata.filename.values\n",
        "      self.labels = metadata.has_covid19.values\n",
        "      self.transform = transform\n",
        "\n",
        "    def __getitem__(self, index):\n",
        "        image_name = self.image_names[index]\n",
        "        image = Image.open(image_name).convert('RGB')\n",
        "        label = self.labels[index]\n",
        "        if self.transform is not None:\n",
        "            image = self.transform(image)\n",
        "        return image, torch.FloatTensor([label])\n",
        "\n",
        "    def __len__(self):\n",
        "        return len(self.image_names)"
      ],
      "execution_count": 0,
      "outputs": []
    },
    {
      "cell_type": "code",
      "metadata": {
        "id": "oSbmYKUY_zYa",
        "colab_type": "code",
        "colab": {}
      },
      "source": [
        "# define transformation applied to train images\n",
        "train_transform = transforms.Compose([\n",
        "  transforms.Resize(320),\n",
        "  transforms.RandomResizedCrop(224, scale=(0.6, 1.0)),\n",
        "  transforms.RandomHorizontalFlip(),\n",
        "  transforms.ToTensor(),\n",
        "  transforms.Normalize([0.485, 0.456, 0.406], [0.229, 0.224, 0.225])\n",
        "])\n",
        "\n",
        "# define transformation applied to validation images\n",
        "# note, that all transformations which apply random effects are removed\n",
        "val_transform = transforms.Compose([\n",
        "  transforms.Resize(224),\n",
        "  transforms.CenterCrop(224),\n",
        "  transforms.ToTensor(),\n",
        "  transforms.Normalize([0.485, 0.456, 0.406], [0.229, 0.224, 0.225])            \n",
        "])"
      ],
      "execution_count": 0,
      "outputs": []
    },
    {
      "cell_type": "markdown",
      "metadata": {
        "id": "ilcERoecnjNE",
        "colab_type": "text"
      },
      "source": [
        "Here, we load the metadata file with information about the X-ray images, including the label, and divide the dataset into train and validation. Since we are interested in detecting only COVID-19, we simply label all patients with COVID-19 as 1 and all other patients as 0. Finally we intialize the dataloaders for both train and validation"
      ]
    },
    {
      "cell_type": "code",
      "metadata": {
        "id": "65b3Do5v91RD",
        "colab_type": "code",
        "colab": {}
      },
      "source": [
        "image_dir = '/content/images/'\n",
        "metadata_file = '/content/metadata.csv'\n",
        "\n",
        "metadata = pd.read_csv(metadata_file)\n",
        "metadata['has_covid19'] = metadata.finding == 'COVID-19'\n",
        "metadata_train, metadata_val = train_test_split(\n",
        "    metadata, test_size=0.2, stratify=metadata.finding, random_state=12345)\n",
        "\n",
        "train = COVID19DataSet(metadata_train, image_dir, transform=train_transform)\n",
        "train = DataLoader(dataset=train, batch_size=10, shuffle=True, num_workers=1)\n",
        "\n",
        "val = COVID19DataSet(metadata_val, image_dir, transform=val_transform)\n",
        "val = DataLoader(dataset=val, batch_size=len(val), num_workers=1)"
      ],
      "execution_count": 0,
      "outputs": []
    },
    {
      "cell_type": "code",
      "metadata": {
        "id": "167eaQPfqBCv",
        "colab_type": "code",
        "colab": {
          "base_uri": "https://localhost:8080/",
          "height": 336
        },
        "outputId": "75be07aa-77ba-409e-e659-3c812036f077"
      },
      "source": [
        "x_batch, y_batch = next(iter(val))\n",
        "image = x_batch[0].numpy()\n",
        "has_covid19 = y_batch[0].item()\n",
        "plt.title('COVID-19' if has_covid19 else 'Other disease')\n",
        "plt.imshow(image.transpose((1, 2, 0)))"
      ],
      "execution_count": 13,
      "outputs": [
        {
          "output_type": "stream",
          "text": [
            "Clipping input data to the valid range for imshow with RGB data ([0..1] for floats or [0..255] for integers).\n"
          ],
          "name": "stderr"
        },
        {
          "output_type": "execute_result",
          "data": {
            "text/plain": [
              "<matplotlib.image.AxesImage at 0x7f2f1764db00>"
            ]
          },
          "metadata": {
            "tags": []
          },
          "execution_count": 13
        },
        {
          "output_type": "display_data",
          "data": {
            "image/png": "[encoded data removed]",
            "text/plain": [
              "<Figure size 432x288 with 1 Axes>"
            ]
          },
          "metadata": {
            "tags": []
          }
        }
      ]
    },
    {
      "cell_type": "markdown",
      "metadata": {
        "id": "E2VePCzIosiP",
        "colab_type": "text"
      },
      "source": [
        "Below, we implement methods for training and evaluating the network. There is a standard training loop which implements the forward and backward pass for each batch in the data loader, and stores the best model based on the f1 score on the validation set. We choose f1 score as the target metric as opposed to e.g. accuracy, because the dataset is highly imbalanced."
      ]
    },
    {
      "cell_type": "code",
      "metadata": {
        "id": "nCzWaKwBOeuC",
        "colab_type": "code",
        "colab": {}
      },
      "source": [
        "def fit(model, epochs, ckpt_path=None):\n",
        "    optimizer = optim.Adam(model.parameters(), weight_decay=1e-4)\n",
        "    loss_fn = torch.nn.BCELoss()\n",
        "    best_val_f1 = 0.\n",
        "    for epoch in range(0, epochs):\n",
        "        train_loss = train_epoch(train, model, optimizer, loss_fn)\n",
        "        val_y_true, val_y_pred = predict(val, model)\n",
        "        val_y_pred = val_y_pred > 0.5\n",
        "        val_f1 = f1_score(val_y_true.numpy(), val_y_pred.numpy())\n",
        "        print(f'Epoch {epoch + 1} train_loss={train_loss:.3f} val_f1={val_f1:.3f}')\n",
        "        if ckpt_path is not None and val_f1 > best_val_f1:\n",
        "          torch.save({'state_dict': model.state_dict()}, ckpt_path)\n",
        "          best_val_f1 = val_f1\n",
        "  \n",
        "def train_epoch(data_loader, model, optimizer, loss_fn):\n",
        "    model.train()\n",
        "    train_loss = 0.\n",
        "    for x, y_true in data_loader:\n",
        "        x = x.to(device)\n",
        "        y_true = y_true.to(device)      \n",
        "        y_pred = model(x)\n",
        "        loss = loss_fn(y_pred, y_true)\n",
        "        optimizer.zero_grad()\n",
        "        loss.backward()\n",
        "        optimizer.step()\n",
        "        train_loss += loss.item()\n",
        "    train_loss /= math.ceil(len(data_loader) / data_loader.batch_size)\n",
        "    return train_loss\n",
        "\n",
        "def predict(data_loader, model):\n",
        "  model.eval()\n",
        "  y_true = torch.FloatTensor()\n",
        "  y_pred = torch.FloatTensor()\n",
        "  with torch.no_grad():\n",
        "    for batch_x, batch_y in data_loader:\n",
        "      batch_x = batch_x.to(device)\n",
        "      batch_y_pred = model(batch_x).cpu()\n",
        "      y_true = torch.cat([y_true, batch_y])\n",
        "      y_pred = torch.cat([y_pred, batch_y_pred])\n",
        "  return y_true, y_pred\n",
        "\n",
        "def validate_model(data_loader, model, optimizer, loss_fn):\n",
        "    model.eval()\n",
        "    val_loss = 0.\n",
        "    with torch.no_grad():\n",
        "        for x, y_true in data_loader:\n",
        "            x = x.to(device)\n",
        "            y_true = y_true.to(device)\n",
        "            y_pred = model(x)\n",
        "            loss = loss_fn(y_pred, y_true)\n",
        "            val_loss += loss.item()\n",
        "    val_loss /= math.ceil(len(data_loader) / data_loader.batch_size)\n",
        "    return val_loss"
      ],
      "execution_count": 0,
      "outputs": []
    },
    {
      "cell_type": "markdown",
      "metadata": {
        "id": "tQ2VWRYJqfbB",
        "colab_type": "text"
      },
      "source": [
        "We train our network for 5 epochs. Since the dataset is so small and the network so deep, we don't want to train for too long to avoid overfitting."
      ]
    },
    {
      "cell_type": "code",
      "metadata": {
        "id": "VR8j3R-AarUX",
        "colab_type": "code",
        "outputId": "6874b603-9800-4ccf-a7b0-2fd545500eb6",
        "colab": {
          "base_uri": "https://localhost:8080/",
          "height": 105
        }
      },
      "source": [
        "fit(model, epochs=5, ckpt_path='model.pth.tar')"
      ],
      "execution_count": 15,
      "outputs": [
        {
          "output_type": "stream",
          "text": [
            "Epoch 1 train_loss=2.721 val_f1=0.909\n",
            "Epoch 2 train_loss=2.134 val_f1=0.889\n",
            "Epoch 3 train_loss=2.157 val_f1=0.909\n",
            "Epoch 4 train_loss=1.953 val_f1=0.943\n",
            "Epoch 5 train_loss=2.307 val_f1=0.906\n"
          ],
          "name": "stdout"
        }
      ]
    },
    {
      "cell_type": "markdown",
      "metadata": {
        "id": "IlmGlGQVpb7B",
        "colab_type": "text"
      },
      "source": [
        "Once the network is trained, we load the weights from checkpoint where the model achieved highest validation score. Then we plot the ROC which helps us choose a threshold for the presence of COVID-19. Choosing the right threshold below which we classify patient as not a COVID-19 patient is essential. We want to make sure, that the patients with COVID-19 will not be misclassified, so we should choose a very rigorous threshold. Specifically, we are interested in a threshold which results in the lowest `false positive rate` while maintaining a high `true positive rate` ([https://en.wikipedia.org/wiki/Sensitivity_and_specificity](https://en.wikipedia.org/wiki/Sensitivity_and_specificity))."
      ]
    },
    {
      "cell_type": "code",
      "metadata": {
        "id": "I84YUeG9csI1",
        "colab_type": "code",
        "outputId": "a892df23-4c99-481d-e346-2ebc9b140a44",
        "colab": {
          "base_uri": "https://localhost:8080/",
          "height": 806
        }
      },
      "source": [
        "ckpt_dict = torch.load('/content/model.pth.tar')\n",
        "model.load_state_dict(ckpt_dict['state_dict'])\n",
        "y_true, y_pred = predict(val, model)\n",
        "for i in range(len(y_true)):\n",
        "  filename = metadata_val.iloc[i].filename\n",
        "  actual = y_true[i].item()\n",
        "  predicted = y_pred[i].item()\n",
        "  print(f'Actual={actual} Predicted={predicted:.3f} Filename={filename}')\n",
        "fpr, tpr, thresholds = roc_curve(y_true.numpy(), y_pred.numpy())\n",
        "auc_score = auc(fpr, tpr)\n",
        "plt.plot(fpr, tpr)\n",
        "plt.xlabel('FPR')\n",
        "plt.ylabel('TPR')\n",
        "plt.show()"
      ],
      "execution_count": 17,
      "outputs": [
        {
          "output_type": "stream",
          "text": [
            "Actual=1.0 Predicted=0.897 Filename=covid-19-pneumonia-15-PA.jpg\n",
            "Actual=1.0 Predicted=1.000 Filename=1-s2.0-S0929664620300449-gr3_lrg-c.jpg\n",
            "Actual=0.0 Predicted=0.074 Filename=SARS-10.1148rg.242035193-g04mr34g05x-Fig5-day9.jpeg\n",
            "Actual=1.0 Predicted=1.000 Filename=7E335538-2F86-424E-A0AB-6397783A38D0.jpeg\n",
            "Actual=1.0 Predicted=0.972 Filename=6A7D4110-2BFC-4D9A-A2D6-E9226D91D25A.jpeg\n",
            "Actual=0.0 Predicted=0.963 Filename=F051E018-DAD1-4506-AD43-BE4CA29E960B.jpeg\n",
            "Actual=1.0 Predicted=1.000 Filename=covid-19-pneumonia-12.jpg\n",
            "Actual=1.0 Predicted=0.987 Filename=covid-19-pneumonia-14-PA.png\n",
            "Actual=1.0 Predicted=0.982 Filename=171CB377-62FF-4B76-906C-F3787A01CB2E.jpeg\n",
            "Actual=0.0 Predicted=0.836 Filename=SARS-10.1148rg.242035193-g04mr34g04b-Fig4b-day12.jpeg\n",
            "Actual=1.0 Predicted=0.889 Filename=7EF28E12-F628-4BEC-A8C5-E6277C2E4F60.png\n",
            "Actual=1.0 Predicted=0.998 Filename=jkms-35-e79-g001-l-b.jpg\n",
            "Actual=1.0 Predicted=0.896 Filename=kjr-21-e24-g003-l-b.jpg\n",
            "Actual=1.0 Predicted=0.976 Filename=auntminnie-b-2020_01_28_23_51_6665_2020_01_28_Vietnam_coronavirus.jpeg\n",
            "Actual=1.0 Predicted=0.983 Filename=nejmoa2001191_f1-PA.jpeg\n",
            "Actual=1.0 Predicted=0.998 Filename=1-s2.0-S0929664620300449-gr2_lrg-b.jpg\n",
            "Actual=1.0 Predicted=0.978 Filename=nejmoa2001191_f1-L.jpeg\n",
            "Actual=1.0 Predicted=0.987 Filename=ciaa199.pdf-001-b.png\n",
            "Actual=1.0 Predicted=0.987 Filename=nejmoa2001191_f4.jpeg\n",
            "Actual=1.0 Predicted=0.991 Filename=8FDE8DBA-CFBD-4B4C-B1A4-6F36A93B7E87.jpeg\n",
            "Actual=1.0 Predicted=0.936 Filename=35AF5C3B-D04D-4B4B-92B7-CB1F67D83085.jpeg\n",
            "Actual=1.0 Predicted=0.923 Filename=covid-19-pneumonia-2.jpg\n",
            "Actual=1.0 Predicted=1.000 Filename=F2DE909F-E19C-4900-92F5-8F435B031AC6.jpeg\n",
            "Actual=1.0 Predicted=0.935 Filename=lancet-case2b.jpg\n",
            "Actual=1.0 Predicted=0.920 Filename=1-s2.0-S1684118220300682-main.pdf-002-a2.png\n",
            "Actual=0.0 Predicted=0.991 Filename=acute-respiratory-distress-syndrome-ards-1.jpg\n",
            "Actual=1.0 Predicted=0.989 Filename=D7AF463C-2369-492D-908D-BE1911CCD74C.jpeg\n",
            "Actual=1.0 Predicted=0.870 Filename=80446565-E090-4187-A031-9D3CEAA586C8.jpeg\n",
            "Actual=0.0 Predicted=0.404 Filename=streptococcus-pneumoniae-pneumonia-1.jpg\n",
            "Actual=1.0 Predicted=0.981 Filename=B59DD164-51D5-40DF-A926-6A42DD52EBE8.jpeg\n"
          ],
          "name": "stdout"
        },
        {
          "output_type": "display_data",
          "data": {
            "image/png": "[encoded data removed]",
            "text/plain": [
              "<Figure size 432x288 with 1 Axes>"
            ]
          },
          "metadata": {
            "tags": []
          }
        }
      ]
    },
    {
      "cell_type": "code",
      "metadata": {
        "id": "brUtvDpGtAmk",
        "colab_type": "code",
        "colab": {}
      },
      "source": [
        ""
      ],
      "execution_count": 0,
      "outputs": []
    }
  ]
}